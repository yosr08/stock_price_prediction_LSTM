{
 "cells": [
  {
   "cell_type": "markdown",
   "metadata": {},
   "source": [
    "# 1. Imports:"
   ]
  },
  {
   "cell_type": "code",
   "execution_count": 1,
   "metadata": {
    "colab": {
     "base_uri": "https://localhost:8080/",
     "height": 35
    },
    "id": "BOjujz601HcS",
    "outputId": "aa0651c4-b24e-4e1e-936c-e31004fa751b"
   },
   "outputs": [],
   "source": [
    "import math\n",
    "import matplotlib.pyplot as plt\n",
    "import keras\n",
    "import pandas as pd\n",
    "import numpy as np\n",
    "from keras.models import Sequential\n",
    "from keras.layers import Dense\n",
    "from keras.layers import LSTM\n",
    "from keras.layers import Dropout\n",
    "from keras.layers import *\n",
    "from sklearn.preprocessing import MinMaxScaler\n",
    "from sklearn.metrics import mean_squared_error\n",
    "from sklearn.metrics import mean_absolute_error\n",
    "from sklearn.model_selection import train_test_split\n",
    "from keras.callbacks import EarlyStopping"
   ]
  },
  {
   "cell_type": "markdown",
   "metadata": {},
   "source": [
    "# 2. Read the dataset:"
   ]
  },
  {
   "cell_type": "code",
   "execution_count": 2,
   "metadata": {},
   "outputs": [],
   "source": [
    "import pandas as pd\n",
    "data= pd.read_csv('AAPL.csv', parse_dates=['date'])"
   ]
  },
  {
   "cell_type": "code",
   "execution_count": 3,
   "metadata": {},
   "outputs": [
    {
     "data": {
      "text/html": [
       "<div>\n",
       "<style scoped>\n",
       "    .dataframe tbody tr th:only-of-type {\n",
       "        vertical-align: middle;\n",
       "    }\n",
       "\n",
       "    .dataframe tbody tr th {\n",
       "        vertical-align: top;\n",
       "    }\n",
       "\n",
       "    .dataframe thead th {\n",
       "        text-align: right;\n",
       "    }\n",
       "</style>\n",
       "<table border=\"1\" class=\"dataframe\">\n",
       "  <thead>\n",
       "    <tr style=\"text-align: right;\">\n",
       "      <th></th>\n",
       "      <th>open</th>\n",
       "      <th>high</th>\n",
       "      <th>low</th>\n",
       "      <th>close</th>\n",
       "      <th>adjclose</th>\n",
       "      <th>volume</th>\n",
       "      <th>ticker</th>\n",
       "      <th>date</th>\n",
       "    </tr>\n",
       "  </thead>\n",
       "  <tbody>\n",
       "    <tr>\n",
       "      <th>0</th>\n",
       "      <td>0.128348</td>\n",
       "      <td>0.128906</td>\n",
       "      <td>0.128348</td>\n",
       "      <td>0.128348</td>\n",
       "      <td>0.101087</td>\n",
       "      <td>469033600.0</td>\n",
       "      <td>AAPL</td>\n",
       "      <td>1980-12-12</td>\n",
       "    </tr>\n",
       "    <tr>\n",
       "      <th>1</th>\n",
       "      <td>0.122210</td>\n",
       "      <td>0.122210</td>\n",
       "      <td>0.121652</td>\n",
       "      <td>0.121652</td>\n",
       "      <td>0.095813</td>\n",
       "      <td>175884800.0</td>\n",
       "      <td>AAPL</td>\n",
       "      <td>1980-12-15</td>\n",
       "    </tr>\n",
       "    <tr>\n",
       "      <th>2</th>\n",
       "      <td>0.113281</td>\n",
       "      <td>0.113281</td>\n",
       "      <td>0.112723</td>\n",
       "      <td>0.112723</td>\n",
       "      <td>0.088780</td>\n",
       "      <td>105728000.0</td>\n",
       "      <td>AAPL</td>\n",
       "      <td>1980-12-16</td>\n",
       "    </tr>\n",
       "    <tr>\n",
       "      <th>3</th>\n",
       "      <td>0.115513</td>\n",
       "      <td>0.116071</td>\n",
       "      <td>0.115513</td>\n",
       "      <td>0.115513</td>\n",
       "      <td>0.090978</td>\n",
       "      <td>86441600.0</td>\n",
       "      <td>AAPL</td>\n",
       "      <td>1980-12-17</td>\n",
       "    </tr>\n",
       "    <tr>\n",
       "      <th>4</th>\n",
       "      <td>0.118862</td>\n",
       "      <td>0.119420</td>\n",
       "      <td>0.118862</td>\n",
       "      <td>0.118862</td>\n",
       "      <td>0.093615</td>\n",
       "      <td>73449600.0</td>\n",
       "      <td>AAPL</td>\n",
       "      <td>1980-12-18</td>\n",
       "    </tr>\n",
       "  </tbody>\n",
       "</table>\n",
       "</div>"
      ],
      "text/plain": [
       "       open      high       low     close  adjclose       volume ticker  \\\n",
       "0  0.128348  0.128906  0.128348  0.128348  0.101087  469033600.0   AAPL   \n",
       "1  0.122210  0.122210  0.121652  0.121652  0.095813  175884800.0   AAPL   \n",
       "2  0.113281  0.113281  0.112723  0.112723  0.088780  105728000.0   AAPL   \n",
       "3  0.115513  0.116071  0.115513  0.115513  0.090978   86441600.0   AAPL   \n",
       "4  0.118862  0.119420  0.118862  0.118862  0.093615   73449600.0   AAPL   \n",
       "\n",
       "        date  \n",
       "0 1980-12-12  \n",
       "1 1980-12-15  \n",
       "2 1980-12-16  \n",
       "3 1980-12-17  \n",
       "4 1980-12-18  "
      ]
     },
     "execution_count": 3,
     "metadata": {},
     "output_type": "execute_result"
    }
   ],
   "source": [
    "data.head()"
   ]
  },
  {
   "cell_type": "code",
   "execution_count": 4,
   "metadata": {},
   "outputs": [
    {
     "data": {
      "text/plain": [
       "open        1\n",
       "high        1\n",
       "low         1\n",
       "close       1\n",
       "adjclose    1\n",
       "volume      1\n",
       "ticker      0\n",
       "date        0\n",
       "dtype: int64"
      ]
     },
     "execution_count": 4,
     "metadata": {},
     "output_type": "execute_result"
    }
   ],
   "source": [
    "data.isnull().sum()"
   ]
  },
  {
   "cell_type": "code",
   "execution_count": 5,
   "metadata": {},
   "outputs": [],
   "source": [
    "data.dropna(inplace=True)"
   ]
  },
  {
   "cell_type": "code",
   "execution_count": 6,
   "metadata": {},
   "outputs": [
    {
     "data": {
      "text/plain": [
       "open        0\n",
       "high        0\n",
       "low         0\n",
       "close       0\n",
       "adjclose    0\n",
       "volume      0\n",
       "ticker      0\n",
       "date        0\n",
       "dtype: int64"
      ]
     },
     "execution_count": 6,
     "metadata": {},
     "output_type": "execute_result"
    }
   ],
   "source": [
    "data.isnull().sum()"
   ]
  },
  {
   "cell_type": "code",
   "execution_count": 7,
   "metadata": {},
   "outputs": [],
   "source": [
    "df = data.reset_index()['close']"
   ]
  },
  {
   "cell_type": "code",
   "execution_count": 8,
   "metadata": {},
   "outputs": [],
   "source": [
    "df.index = data.date"
   ]
  },
  {
   "cell_type": "code",
   "execution_count": 9,
   "metadata": {},
   "outputs": [
    {
     "data": {
      "text/plain": [
       "date\n",
       "1980-12-12      0.128348\n",
       "1980-12-15      0.121652\n",
       "1980-12-16      0.112723\n",
       "1980-12-17      0.115513\n",
       "1980-12-18      0.118862\n",
       "                 ...    \n",
       "2021-01-06    126.599998\n",
       "2021-01-07    130.919998\n",
       "2021-01-08    132.050003\n",
       "2021-01-11    128.979996\n",
       "2021-01-12    128.800003\n",
       "Name: close, Length: 10106, dtype: float64"
      ]
     },
     "execution_count": 9,
     "metadata": {},
     "output_type": "execute_result"
    }
   ],
   "source": [
    "df"
   ]
  },
  {
   "cell_type": "markdown",
   "metadata": {},
   "source": [
    "# 3. Analyze the closing prices from dataframe:"
   ]
  },
  {
   "cell_type": "code",
   "execution_count": 10,
   "metadata": {},
   "outputs": [
    {
     "data": {
      "text/plain": [
       "[<matplotlib.lines.Line2D at 0x1bb7dfdc988>]"
      ]
     },
     "execution_count": 10,
     "metadata": {},
     "output_type": "execute_result"
    },
    {
     "data": {
      "image/png": "[encoded data removed]",
      "text/plain": [
       "<Figure size 432x288 with 1 Axes>"
      ]
     },
     "metadata": {
      "needs_background": "light"
     },
     "output_type": "display_data"
    }
   ],
   "source": [
    "plt.plot(df)"
   ]
  },
  {
   "cell_type": "markdown",
   "metadata": {},
   "source": [
    "# 5. scale the dataset:"
   ]
  },
  {
   "cell_type": "code",
   "execution_count": 11,
   "metadata": {},
   "outputs": [],
   "source": [
    "# Feature Scaling\n",
    "sc = MinMaxScaler(feature_range = (0, 1))\n",
    "df1 = sc.fit_transform(np.array(df).reshape(-1,1))\n"
   ]
  },
  {
   "cell_type": "markdown",
   "metadata": {},
   "source": [
    "# 6. split data into train and test:"
   ]
  },
  {
   "cell_type": "code",
   "execution_count": 12,
   "metadata": {},
   "outputs": [],
   "source": [
    "training_size = int(len(df1)*0.8)\n",
    "test_size = len(df1) - training_size\n",
    "train_data,test_data = df1[0:training_size,:],df1[training_size:len(df1),:1]"
   ]
  },
  {
   "cell_type": "code",
   "execution_count": 13,
   "metadata": {},
   "outputs": [],
   "source": [
    "#convert an array of values into a dataset matrix\n",
    "def create_dataset(dataset , time_step=1):\n",
    "    dataX,dataY = [],[]\n",
    "    for i in range(len(dataset)-time_step-1):\n",
    "        a = dataset[i:(i+time_step),0]\n",
    "        dataX.append(a)\n",
    "        dataY.append(dataset[i + time_step,0])\n",
    "    return np.array(dataX) , np.array(dataY)"
   ]
  },
  {
   "cell_type": "code",
   "execution_count": 14,
   "metadata": {},
   "outputs": [],
   "source": [
    "time_step=100\n",
    "X_train , y_train = create_dataset(train_data , time_step)\n",
    "X_test , ytest = create_dataset(test_data , time_step)"
   ]
  },
  {
   "cell_type": "code",
   "execution_count": 15,
   "metadata": {},
   "outputs": [
    {
     "name": "stdout",
     "output_type": "stream",
     "text": [
      "(7983, 100)\n",
      "(7983,)\n"
     ]
    },
    {
     "data": {
      "text/plain": [
       "(None, None)"
      ]
     },
     "execution_count": 15,
     "metadata": {},
     "output_type": "execute_result"
    }
   ],
   "source": [
    "print(X_train.shape),print(y_train.shape)"
   ]
  },
  {
   "cell_type": "code",
   "execution_count": 16,
   "metadata": {},
   "outputs": [],
   "source": [
    "#reshape input to be [samples , time steps , features] which is required for LSTM\n",
    "X_train = X_train.reshape(X_train.shape[0],X_train.shape[1],1)\n",
    "X_test = X_test.reshape(X_test.shape[0],X_test.shape[1],1) "
   ]
  },
  {
   "cell_type": "code",
   "execution_count": 17,
   "metadata": {},
   "outputs": [],
   "source": [
    "from tensorflow.keras.models import Sequential\n",
    "from tensorflow.keras.layers import Dense\n",
    "from tensorflow.keras.layers import LSTM"
   ]
  },
  {
   "cell_type": "code",
   "execution_count": 18,
   "metadata": {},
   "outputs": [],
   "source": [
    "model = Sequential()\n",
    "model.add(LSTM(50,return_sequences=True,input_shape=(100,1)))\n",
    "model.add(LSTM(50,return_sequences=True))\n",
    "model.add(LSTM(50))\n",
    "model.add(Dense(1))\n",
    "model.compile(loss='mean_squared_error',optimizer='adam')\n"
   ]
  },
  {
   "cell_type": "code",
   "execution_count": 19,
   "metadata": {},
   "outputs": [
    {
     "name": "stdout",
     "output_type": "stream",
     "text": [
      "Model: \"sequential\"\n",
      "_________________________________________________________________\n",
      "Layer (type)                 Output Shape              Param #   \n",
      "=================================================================\n",
      "lstm (LSTM)                  (None, 100, 50)           10400     \n",
      "_________________________________________________________________\n",
      "lstm_1 (LSTM)                (None, 100, 50)           20200     \n",
      "_________________________________________________________________\n",
      "lstm_2 (LSTM)                (None, 50)                20200     \n",
      "_________________________________________________________________\n",
      "dense (Dense)                (None, 1)                 51        \n",
      "=================================================================\n",
      "Total params: 50,851\n",
      "Trainable params: 50,851\n",
      "Non-trainable params: 0\n",
      "_________________________________________________________________\n"
     ]
    }
   ],
   "source": [
    "model.summary()"
   ]
  },
  {
   "cell_type": "code",
   "execution_count": null,
   "metadata": {},
   "outputs": [
    {
     "name": "stdout",
     "output_type": "stream",
     "text": [
      "Epoch 1/100\n",
      "125/125 [==============================] - 29s 183ms/step - loss: 2.6653e-04 - val_loss: 0.0031\n",
      "Epoch 2/100\n",
      "125/125 [==============================] - 21s 167ms/step - loss: 5.7933e-06 - val_loss: 0.0031\n",
      "Epoch 3/100\n",
      "125/125 [==============================] - 20s 162ms/step - loss: 5.2269e-06 - val_loss: 0.0047\n",
      "Epoch 4/100\n",
      "125/125 [==============================] - 20s 162ms/step - loss: 5.2304e-06 - val_loss: 0.0029\n",
      "Epoch 5/100\n",
      "125/125 [==============================] - 19s 154ms/step - loss: 4.1995e-06 - val_loss: 0.0025\n",
      "Epoch 6/100\n",
      "125/125 [==============================] - 19s 155ms/step - loss: 4.3520e-06 - val_loss: 0.0023\n",
      "Epoch 7/100\n",
      "125/125 [==============================] - 19s 153ms/step - loss: 3.5845e-06 - val_loss: 0.0014\n",
      "Epoch 8/100\n",
      "125/125 [==============================] - 19s 155ms/step - loss: 3.7700e-06 - val_loss: 0.0016\n",
      "Epoch 9/100\n",
      "125/125 [==============================] - 19s 155ms/step - loss: 3.9214e-06 - val_loss: 0.0017\n",
      "Epoch 10/100\n",
      "125/125 [==============================] - 21s 164ms/step - loss: 3.4691e-06 - val_loss: 0.0016\n",
      "Epoch 11/100\n",
      "125/125 [==============================] - 21s 168ms/step - loss: 3.1843e-06 - val_loss: 0.0011\n",
      "Epoch 12/100\n",
      "125/125 [==============================] - 19s 154ms/step - loss: 4.6110e-06 - val_loss: 0.0020\n",
      "Epoch 13/100\n",
      "125/125 [==============================] - 19s 153ms/step - loss: 4.6051e-06 - val_loss: 8.5585e-04\n",
      "Epoch 14/100\n",
      "125/125 [==============================] - 19s 153ms/step - loss: 2.9443e-06 - val_loss: 0.0011\n",
      "Epoch 15/100\n",
      "125/125 [==============================] - 21s 172ms/step - loss: 4.0460e-06 - val_loss: 0.0020\n",
      "Epoch 16/100\n",
      "125/125 [==============================] - 19s 156ms/step - loss: 3.3944e-06 - val_loss: 0.0015\n",
      "Epoch 17/100\n",
      "125/125 [==============================] - 19s 151ms/step - loss: 2.4996e-06 - val_loss: 0.0018\n",
      "Epoch 18/100\n",
      "125/125 [==============================] - 19s 151ms/step - loss: 2.7687e-06 - val_loss: 7.1411e-04\n",
      "Epoch 19/100\n",
      "125/125 [==============================] - 19s 152ms/step - loss: 2.8695e-06 - val_loss: 8.9442e-04\n",
      "Epoch 20/100\n",
      "125/125 [==============================] - 19s 152ms/step - loss: 2.3596e-06 - val_loss: 0.0014\n",
      "Epoch 21/100\n",
      "125/125 [==============================] - 19s 152ms/step - loss: 4.6973e-06 - val_loss: 5.1741e-04\n",
      "Epoch 22/100\n",
      "125/125 [==============================] - 19s 156ms/step - loss: 2.2992e-06 - val_loss: 8.0130e-04\n",
      "Epoch 23/100\n",
      "125/125 [==============================] - 19s 153ms/step - loss: 2.8741e-06 - val_loss: 4.3356e-04\n",
      "Epoch 24/100\n",
      "125/125 [==============================] - 19s 152ms/step - loss: 2.6204e-06 - val_loss: 4.0993e-04\n",
      "Epoch 25/100\n",
      "125/125 [==============================] - 19s 152ms/step - loss: 2.4427e-06 - val_loss: 3.3151e-04\n",
      "Epoch 26/100\n",
      "125/125 [==============================] - 19s 152ms/step - loss: 3.3469e-06 - val_loss: 5.0926e-04\n",
      "Epoch 27/100\n",
      "125/125 [==============================] - 19s 151ms/step - loss: 1.9665e-06 - val_loss: 4.1675e-04\n",
      "Epoch 28/100\n",
      "125/125 [==============================] - 20s 159ms/step - loss: 2.0724e-06 - val_loss: 4.9002e-04\n",
      "Epoch 29/100\n",
      "125/125 [==============================] - 21s 165ms/step - loss: 1.7585e-06 - val_loss: 4.9870e-04\n",
      "Epoch 30/100\n",
      "125/125 [==============================] - 21s 164ms/step - loss: 1.8345e-06 - val_loss: 6.4972e-04\n",
      "Epoch 31/100\n",
      " 77/125 [=================>............] - ETA: 7s - loss: 2.3477e-06"
     ]
    }
   ],
   "source": [
    "model.fit(X_train,y_train,validation_data=(X_test,ytest),epochs=100,batch_size=64,verbose=1)"
   ]
  },
  {
   "cell_type": "code",
   "execution_count": null,
   "metadata": {},
   "outputs": [],
   "source": [
    "#let s do the prediction and check performance metrics\n",
    "train_predict = model.predict(X_train)\n",
    "test_predict = model.predict(X_test)"
   ]
  },
  {
   "cell_type": "code",
   "execution_count": null,
   "metadata": {},
   "outputs": [],
   "source": [
    "#transformback to original form\n",
    "train_predict = sc.inverse_transform(train_predict)\n",
    "test_predict = sc.inverse_transform(test_predict)"
   ]
  },
  {
   "cell_type": "code",
   "execution_count": null,
   "metadata": {},
   "outputs": [],
   "source": [
    "#calculate RMSE performance metrics\n",
    "import math\n",
    "from sklearn.metrics import mean_squared_error\n",
    "math.sqrt(mean_squared_error(y_train,train_predict))"
   ]
  },
  {
   "cell_type": "code",
   "execution_count": null,
   "metadata": {},
   "outputs": [],
   "source": [
    "#test data RMSE\n",
    "math.sqrt(mean_squared_error(ytest,test_predict))"
   ]
  },
  {
   "cell_type": "code",
   "execution_count": null,
   "metadata": {},
   "outputs": [],
   "source": [
    "ytest_tr = sc.inverse_transform(ytest.reshape(-1,1))\n",
    "ytest_tr = pd.DataFrame(ytest_tr)\n",
    "test_predict = pd.DataFrame(test_predict)\n",
    "plt.figure(figsize=(12,8))\n",
    "plt.plot(ytest_tr, color='blue', label='Real')\n",
    "plt.plot(test_predict , color='red', label='Prediction')\n",
    "plt.title('Apple Stock Price Prediction')\n",
    "plt.legend()\n",
    "plt.show()"
   ]
  },
  {
   "cell_type": "code",
   "execution_count": null,
   "metadata": {},
   "outputs": [],
   "source": []
  }
 ],
 "metadata": {
  "colab": {
   "collapsed_sections": [],
   "name": "Copie de S+P Week 3 Lesson 4 - LSTM.ipynb",
   "provenance": [
    {
     "file_id": "https://github.com/lmoroney/dlaicourse/blob/master/TensorFlow%20In%20Practice/Course%204%20-%20S%2BP/S%2BP%20Week%203%20Lesson%204%20-%20LSTM.ipynb",
     "timestamp": 1611954832080
    }
   ]
  },
  "kernelspec": {
   "display_name": "Python 3",
   "language": "python",
   "name": "python3"
  },
  "language_info": {
   "codemirror_mode": {
    "name": "ipython",
    "version": 3
   },
   "file_extension": ".py",
   "mimetype": "text/x-python",
   "name": "python",
   "nbconvert_exporter": "python",
   "pygments_lexer": "ipython3",
   "version": "3.7.6"
  }
 },
 "nbformat": 4,
 "nbformat_minor": 1
}
